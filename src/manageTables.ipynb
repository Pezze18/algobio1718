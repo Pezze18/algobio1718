{
 "cells": [
  {
   "cell_type": "code",
   "execution_count": 16,
   "metadata": {
    "collapsed": true
   },
   "outputs": [],
   "source": [
    "import pandas as pd \n",
    "import math"
   ]
  },
  {
   "cell_type": "code",
   "execution_count": 242,
   "metadata": {
    "collapsed": true
   },
   "outputs": [],
   "source": [
    "def prepareNumber(value):\n",
    "    #print(\"value: \"+str(value))\n",
    "    final=\"\"\n",
    "    length=len(value)\n",
    "    number=int(length/3.0)\n",
    "    part=length-3*number\n",
    "    #print(part)\n",
    "\n",
    "    if(part>0):\n",
    "        final=final+value[0:part]\n",
    "        if(number>=1):\n",
    "            final=final+\".\"+value[part:part+3] \n",
    "    else:\n",
    "        if(number>=1):#if superfluo, se part==0 allora deve esserci almeno una terna, altrimenti numero sarebbe vuoto assurdo !\n",
    "            final=final+value[0:3]            \n",
    "    for i in range(1,number):\n",
    "        j=i*3+part\n",
    "        final=final+\".\"+value[j]+value[j+1]+value[j+2]\n",
    "    #print(\"value_final: \"+str(final))\n",
    "    return final\n",
    "def prepareNumbers(lista):\n",
    "    #print(\"Before: \"+str(lista))\n",
    "    lista=lista[1:len(lista)-1]\n",
    "    lista=lista.replace(\" \",\"\")\n",
    "    lista=lista.split(\",\")\n",
    "    for i in range(len(lista)):\n",
    "        #print(str(i)+\":\"+lista[i])\n",
    "        lista[i]=prepareNumber(lista[i])\n",
    "    #print(lista)\n",
    "    #print(\"Before2: \"+str(lista))\n",
    "    final=\"[\"\n",
    "    for i in range(len(lista)):\n",
    "        final+=lista[i]+\", \"\n",
    "    final=final[0:len(final)-2]\n",
    "    final+=\"]\"\n",
    "    #print(\"After: \"+str(final))\n",
    "    return final\n",
    "def manageLevelsTable(path,filename):\n",
    "    data = pd.read_csv(path+\"/\"+filename+\".csv\") \n",
    "    for k in range(1,7):\n",
    "        #print(type(data[str(k)])) <class 'pandas.core.series.Series'>\n",
    "        for i in range(len(data[str(k)])):\n",
    "            if i>0 and type(data[str(k)][i]) is not float:#i>0 and data[str(k)][i]==\"nan\"\n",
    "                data[str(k)][i]=prepareNumbers(data[str(k)][i])\n",
    "    data.to_csv(path+\"/\"+filename+\"_trasformed.csv\",sep=\",\")"
   ]
  },
  {
   "cell_type": "code",
   "execution_count": 258,
   "metadata": {
    "collapsed": true
   },
   "outputs": [],
   "source": [
    "def convertTime(time):\n",
    "    (time,seconds)=time.split(\"m\")\n",
    "    time=int(time)\n",
    "    seconds=(float(seconds.split(\"s\")[0]))\n",
    "\n",
    "    ms=seconds-int(seconds)\n",
    "    seconds=int(seconds)\n",
    "\n",
    "    h=int(time/60)\n",
    "    m=time-60*h\n",
    "    if h==0:\n",
    "        h=\"00\"\n",
    "    if m==0:\n",
    "        m=\"00\"\n",
    "    if seconds==0:\n",
    "        seconds=\"00\"\n",
    "        \n",
    "    h=str(h)\n",
    "    m=str(m)\n",
    "    s=str(seconds)\n",
    "    ms=str(ms*1000)[0:3]\n",
    "    \n",
    "    if len(h)==1:\n",
    "        h=\"0\"+h\n",
    "    if len(m)==1:\n",
    "        m=\"0\"+m\n",
    "    if len(s)==1:\n",
    "        s=\"0\"+s\n",
    "\n",
    "    #return str(h)+\"h:\"+str(m)+\"m:\"+str(seconds)+\"s:\"+str(ms)+\"ms\"\n",
    "    return str(h)+\":\"+str(m)+\":\"+str(seconds)\n",
    "\n",
    "def manageTimeTable(path,filename):\n",
    "    data = pd.read_csv(path+\"/\"+filename+\".csv\") \n",
    "    for k in range(1,7):\n",
    "        #print(type(data[str(k)])) <class 'pandas.core.series.Series'>\n",
    "        for i in range(len(data[str(k)])):\n",
    "            if i>0 and type(data[str(k)][i]) is not float:#i>0 and data[str(k)][i]==\"nan\"\n",
    "                #print(data[str(k)][i])\n",
    "                data[str(k)][i]=convertTime(data[str(k)][i])\n",
    "    data.to_csv(path+\"/\"+filename+\"_trasformed.csv\",sep=\",\")"
   ]
  },
  {
   "cell_type": "code",
   "execution_count": 259,
   "metadata": {},
   "outputs": [],
   "source": [
    "manageLevelsTable(\"../data/tabelle\",\"compareLevelsBDDEAndComb\")"
   ]
  },
  {
   "cell_type": "code",
   "execution_count": 260,
   "metadata": {},
   "outputs": [],
   "source": [
    "manageTimeTable(\"../data/tabelle\",\"compareTimeBDDEAndComb\")"
   ]
  },
  {
   "cell_type": "code",
   "execution_count": null,
   "metadata": {
    "collapsed": true
   },
   "outputs": [],
   "source": []
  },
  {
   "cell_type": "code",
   "execution_count": null,
   "metadata": {
    "collapsed": true
   },
   "outputs": [],
   "source": []
  }
 ],
 "metadata": {
  "kernelspec": {
   "display_name": "Python [conda env:Anaconda3]",
   "language": "python",
   "name": "conda-env-Anaconda3-py"
  },
  "language_info": {
   "codemirror_mode": {
    "name": "ipython",
    "version": 3
   },
   "file_extension": ".py",
   "mimetype": "text/x-python",
   "name": "python",
   "nbconvert_exporter": "python",
   "pygments_lexer": "ipython3",
   "version": "3.6.3"
  }
 },
 "nbformat": 4,
 "nbformat_minor": 2
}
